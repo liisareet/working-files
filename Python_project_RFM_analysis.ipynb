{
  "nbformat": 4,
  "nbformat_minor": 0,
  "metadata": {
    "colab": {
      "provenance": [],
      "authorship_tag": "ABX9TyPJIaaVkAcaiZghm568ImuH",
      "include_colab_link": true
    },
    "kernelspec": {
      "name": "python3",
      "display_name": "Python 3"
    },
    "language_info": {
      "name": "python"
    }
  },
  "cells": [
    {
      "cell_type": "markdown",
      "metadata": {
        "id": "view-in-github",
        "colab_type": "text"
      },
      "source": [
        "<a href=\"https://colab.research.google.com/github/liisareet/working-files/blob/main/Python_project_RFM_analysis.ipynb\" target=\"_parent\"><img src=\"https://colab.research.google.com/assets/colab-badge.svg\" alt=\"Open In Colab\"/></a>"
      ]
    },
    {
      "cell_type": "code",
      "execution_count": 22,
      "metadata": {
        "colab": {
          "base_uri": "https://localhost:8080/"
        },
        "id": "q-IRcAO3atSn",
        "outputId": "b9e428c1-d215-4e52-f0f2-04d525bce125"
      },
      "outputs": [
        {
          "output_type": "stream",
          "name": "stdout",
          "text": [
            "Setup complete!\n"
          ]
        }
      ],
      "source": [
        "# Workbook setup\n",
        "\n",
        "import pandas as pd\n",
        "import pandas_gbq\n",
        "import numpy as np\n",
        "import plotly.express as px\n",
        "print('Setup complete!')"
      ]
    },
    {
      "cell_type": "code",
      "source": [
        "# Authenticate user\n",
        "\n",
        "from google.colab import auth\n",
        "auth.authenticate_user()\n",
        "print('Authenticated')"
      ],
      "metadata": {
        "colab": {
          "base_uri": "https://localhost:8080/"
        },
        "id": "lpZbxzQCcUuV",
        "outputId": "ea3e4565-7581-47a2-9b06-35880d9699a9"
      },
      "execution_count": 4,
      "outputs": [
        {
          "output_type": "stream",
          "name": "stdout",
          "text": [
            "Authenticated\n"
          ]
        }
      ]
    },
    {
      "cell_type": "code",
      "source": [
        "# Connect to BigQuery\n",
        "from google.cloud import bigquery\n",
        "client = bigquery.Client()\n",
        "project_id = 'tc-da-1'\n",
        "\n",
        "\"\"\"\n",
        "RFM analysis based on customer dataset, 1 year of data - 2010-12-01 to 2011-12-01\n",
        "\n",
        "Segments are based on separate r_, f_ and m_scores , rather than a combined RFM score\n",
        "\"\"\""
      ],
      "metadata": {
        "id": "I1_iCZxadbOn"
      },
      "execution_count": 19,
      "outputs": []
    },
    {
      "cell_type": "code",
      "source": [
        "# Create Bigquery job object\n",
        "sql = \"\"\"\n",
        "WITH\n",
        "-- Clean dataset\n",
        "customerdata AS (\n",
        "SELECT\n",
        "CustomerID, InvoiceDate, InvoiceNo, SUM(LinePrice) AS TotalDue\n",
        "FROM (\n",
        "SELECT CustomerID, InvoiceDate, InvoiceNo, (Quantity*UnitPrice) AS LinePrice\n",
        "FROM `tc-da-1.turing_data_analytics.rfm`\n",
        "WHERE CustomerId IS NOT NULL\n",
        "AND InvoiceDate BETWEEN '2010-12-01' AND '2011-12-01'\n",
        "AND (Quantity*UnitPrice) > 0)\n",
        "GROUP BY CustomerID, InvoiceDate, InvoiceNo),\n",
        "\n",
        "-- Calculation for F & M\n",
        "frequency_monetary AS (\n",
        "  SELECT CustomerID, MAX(InvoiceDate) AS last_purchase_date,\n",
        "  COUNT(DISTINCT InvoiceNo) AS frequency,\n",
        "  SUM(TotalDue) AS monetary\n",
        "  FROM customerdata\n",
        "  GROUP BY CustomerID\n",
        "),\n",
        "\n",
        "-- Calculation for R\n",
        "recency_t AS (\n",
        "SELECT *,\n",
        "DATE_DIFF(reference_date,last_purchase_date,DAY) AS recency\n",
        "FROM (SELECT *,MAX(last_purchase_date) OVER () + INTERVAL 1 DAY AS reference_date FROM frequency_monetary)),\n",
        "\n",
        "-- Determine quartiles for RFM\n",
        "quartiles AS (\n",
        "SELECT  a.*,\n",
        "    b.percentiles[offset(25)] AS m25,\n",
        "    b.percentiles[offset(50)] AS m50,\n",
        "    b.percentiles[offset(75)] AS m75,\n",
        "    c.percentiles[offset(25)] AS f25,\n",
        "    c.percentiles[offset(50)] AS f50,\n",
        "    c.percentiles[offset(75)] AS f75,\n",
        "    d.percentiles[offset(25)] AS r25,\n",
        "    d.percentiles[offset(50)] AS r50,\n",
        "    d.percentiles[offset(75)] AS r75\n",
        "FROM\n",
        "    recency_t a,\n",
        "    (SELECT APPROX_QUANTILES(monetary, 100) percentiles FROM\n",
        "    recency_t) b,\n",
        "    (SELECT APPROX_QUANTILES(frequency, 100) percentiles FROM\n",
        "    recency_t) c,\n",
        "    (SELECT APPROX_QUANTILES(recency, 100) percentiles FROM\n",
        "    recency_t) d),\n",
        "\n",
        "--Assign RFM Score\n",
        "scoring AS (\n",
        "SELECT *,\n",
        "-- recency scoring is reversed\n",
        "CASE WHEN recency <= r25 THEN 4\n",
        "WHEN recency <= r50 AND recency > r25 THEN 3\n",
        "WHEN recency <= r75 AND recency > r50 THEN 2\n",
        "WHEN recency > r75 THEN 1\n",
        "END AS r_score,\n",
        "CASE WHEN frequency <= f25 THEN 1\n",
        "WHEN frequency <= f50 AND frequency > f25 THEN 2\n",
        "WHEN frequency <= f75 AND frequency > f50 THEN 3\n",
        "WHEN frequency > f75 THEN 4\n",
        "END AS f_score,\n",
        "CASE WHEN monetary <= m25 THEN 1\n",
        "WHEN monetary <= m50 AND monetary > m25 THEN 2\n",
        "WHEN monetary <= m75 AND monetary > m50 THEN 3\n",
        "WHEN monetary > m75 THEN 4\n",
        "END AS m_score\n",
        "FROM quartiles)\n",
        "\n",
        "SELECT\n",
        "CustomerID,\n",
        "recency,\n",
        "monetary,\n",
        "frequency,\n",
        "r_score,\n",
        "f_score,\n",
        "m_score,\n",
        "CASE\n",
        "WHEN (r_score = 4 AND f_score = 4 AND m_score = 4) THEN 'Best Customers'\n",
        "WHEN (r_score = 4 AND f_score IN(3,4) AND m_score IN (3,4)) THEN 'Loyal Customers'\n",
        "WHEN (r_score IN (3,4) AND f_score > 1 AND m_score IN (2,3,4)) THEN 'Potential Loyalists'\n",
        "WHEN (r_score = 4 AND f_score = 1 AND m_score IN (1,2,3,4)) THEN 'New customers'\n",
        "WHEN (r_score = 4 AND f_score IN (1,2,3) AND m_score IN (1,2,3,4)) THEN 'Recent customers'\n",
        "WHEN (r_score IN (2,3,4) and f_score IN (3,4) AND m_score = 1) THEN 'Price sensitive'\n",
        "WHEN (r_score = 2 AND f_score IN (3,4) AND m_score IN (3,4)) THEN 'Needing attention'\n",
        "WHEN (r_score IN (2,3) AND f_score IN (1,2) AND m_score IN (1,2,3,4)) THEN 'About to sleep'\n",
        "WHEN (r_score = 1 AND f_score IN (2,3) AND m_score IN (2,3)) THEN 'Slipping customers'\n",
        "WHEN (r_score = 1 AND f_score = 4 AND m_score = 4) THEN 'At risk'\n",
        "WHEN (r_score = 1 AND f_score = 1 AND m_score IN (1,2,3,4)) THEN 'Lost'\n",
        "    ELSE 'Other' -- Covers all remaining combinations\n",
        "  END AS customer_segment\n",
        "FROM scoring\n",
        "\"\"\""
      ],
      "metadata": {
        "id": "jtaWV2SFgY34"
      },
      "execution_count": 20,
      "outputs": []
    },
    {
      "cell_type": "code",
      "source": [
        "# Execute the query, create dataframe and check result\n",
        "df = pandas_gbq.read_gbq(sql, project_id=project_id)\n",
        "print(df.head())\n",
        "print('no of rows in dataframe: ', df.shape[0])"
      ],
      "metadata": {
        "colab": {
          "base_uri": "https://localhost:8080/"
        },
        "id": "6taXRtYxhLFv",
        "outputId": "3db5a0a8-966d-4ca4-c266-7826419ab7f8"
      },
      "execution_count": 26,
      "outputs": [
        {
          "output_type": "stream",
          "name": "stdout",
          "text": [
            "Downloading: 100%|\u001b[32m██████████\u001b[0m|\n",
            "   CustomerID  recency  monetary  frequency  r_score  f_score  m_score  \\\n",
            "0       16900        8    887.11          3        4        3        3   \n",
            "1       13067       74    115.46          1        2        1        1   \n",
            "2       17932       20   1331.57          3        3        3        3   \n",
            "3       12574      307    218.45          1        1        1        1   \n",
            "4       13858       49    216.17          1        3        1        1   \n",
            "\n",
            "      customer_segment  \n",
            "0      Loyal Customers  \n",
            "1       About to sleep  \n",
            "2  Potential Loyalists  \n",
            "3                 Lost  \n",
            "4       About to sleep  \n",
            "no of rows in dataframe:  4297\n"
          ]
        }
      ]
    },
    {
      "cell_type": "code",
      "source": [
        "\"\"\"\n",
        "Segmentation overview:\n",
        "\n",
        "Best customer           Bought recently and often and spend the most\n",
        "Loyal customers         Spend good money with us often. Responsive to promotions\n",
        "Potential loyalists     Recent customers, spent a good amount and bought more than once\n",
        "New customers           Bought most recently and first order\n",
        "Recent Customers        Bought recently, but haven’t spent much\n",
        "Price sensitive         Have frequency score above 2, but have very low spend\n",
        "Needing attention       Above average recency, frequency and monetary values, but may not have bought very recently\n",
        "About to sleep          Below average recency, frequency and monetary values. Will lose if not reactivated\n",
        "Slipping customers      Spent big money and purchased often, but haven’t returned in a long time. Need to bring them back\n",
        "Can’t lose them         Made biggest purchases and often, but haven’t returned in a long time\n",
        "Hibernating             Last purchase was long back. Low spenders, low number of orders\n",
        "Lost                    Lowest recency, frequency and monetary scores\n",
        "\"\"\""
      ],
      "metadata": {
        "id": "3_naPxrdkl07"
      },
      "execution_count": null,
      "outputs": []
    },
    {
      "cell_type": "code",
      "source": [
        "# Overview of dataset\n",
        "customer_count = df['CustomerID'].nunique()\n",
        "total_sales = df['monetary'].sum()\n",
        "average_order_value = (total_sales / df['frequency'].sum()).round(2)\n",
        "average_frequency = df['frequency'].mean().round()\n",
        "\n",
        "print(f\"Count of Customers: {customer_count}\")\n",
        "print(f\"Total Sales: {total_sales} USD\")\n",
        "print(f\"Average Order Value: {average_order_value} USD\")\n",
        "print(f\"Average Frequency: {average_frequency}\")"
      ],
      "metadata": {
        "colab": {
          "base_uri": "https://localhost:8080/"
        },
        "id": "KlxOl6dTm1AV",
        "outputId": "435dc6a5-e0dd-487a-827c-4cc453c742e7"
      },
      "execution_count": 36,
      "outputs": [
        {
          "output_type": "stream",
          "name": "stdout",
          "text": [
            "Count of Customers: 4297\n",
            "Total Sales: 8393215.114 USD\n",
            "Average Order Value: 472.75 USD\n",
            "Average Frequency: 4.0\n"
          ]
        }
      ]
    },
    {
      "cell_type": "code",
      "source": [
        "# Create bubble chart to show customer segment sizes\n",
        "\n",
        "agg_df = df.groupby('customer_segment').agg(\n",
        "    recency_avg=('recency', 'mean'),\n",
        "    frequency_avg=('frequency', 'mean'),\n",
        "    monetary_total=('monetary', 'sum')\n",
        ").reset_index()\n",
        "\n",
        "fig = px.scatter(\n",
        "    agg_df,\n",
        "    x='recency_avg',\n",
        "    y='frequency_avg',\n",
        "    size='monetary_total',\n",
        "    color='customer_segment',\n",
        "    text='customer_segment',\n",
        "    hover_name='customer_segment',\n",
        "    title='Customer Segment Sizes (bubble size indicating monetary value)',\n",
        "    color_discrete_sequence=px.colors.qualitative.Pastel,\n",
        "    labels={'recency_avg': 'Average Recency(days)', 'frequency_avg': 'Average Frequency', 'monetary_total': 'Total Monetary',},\n",
        "    size_max=50\n",
        ")\n",
        "\n",
        "fig.update_traces(textposition='top center')\n",
        "fig.update_layout(showlegend=False, width=1200, height=700)\n",
        "fig.show()"
      ],
      "metadata": {
        "colab": {
          "base_uri": "https://localhost:8080/",
          "height": 717
        },
        "id": "mY5UHp9mpPd6",
        "outputId": "0ef9242e-b5bb-4dcb-e9e5-242211209939"
      },
      "execution_count": 55,
      "outputs": [
        {
          "output_type": "display_data",
          "data": {
            "text/html": [
              "<html>\n",
              "<head><meta charset=\"utf-8\" /></head>\n",
              "<body>\n",
              "    <div>            <script src=\"https://cdnjs.cloudflare.com/ajax/libs/mathjax/2.7.5/MathJax.js?config=TeX-AMS-MML_SVG\"></script><script type=\"text/javascript\">if (window.MathJax && window.MathJax.Hub && window.MathJax.Hub.Config) {window.MathJax.Hub.Config({SVG: {font: \"STIX-Web\"}});}</script>                <script type=\"text/javascript\">window.PlotlyConfig = {MathJaxConfig: 'local'};</script>\n",
              "        <script charset=\"utf-8\" src=\"https://cdn.plot.ly/plotly-2.24.1.min.js\"></script>                <div id=\"e743dda9-8166-419e-b2e2-acac7209639c\" class=\"plotly-graph-div\" style=\"height:700px; width:1200px;\"></div>            <script type=\"text/javascript\">                                    window.PLOTLYENV=window.PLOTLYENV || {};                                    if (document.getElementById(\"e743dda9-8166-419e-b2e2-acac7209639c\")) {                    Plotly.newPlot(                        \"e743dda9-8166-419e-b2e2-acac7209639c\",                        [{\"hovertemplate\":\"\\u003cb\\u003e%{hovertext}\\u003c\\u002fb\\u003e\\u003cbr\\u003e\\u003cbr\\u003ecustomer_segment=%{text}\\u003cbr\\u003eAverage Recency(days)=%{x}\\u003cbr\\u003eAverage Frequency=%{y}\\u003cbr\\u003eTotal Monetary=%{marker.size}\\u003cextra\\u003e\\u003c\\u002fextra\\u003e\",\"hovertext\":[\"About to sleep\"],\"legendgroup\":\"About to sleep\",\"marker\":{\"color\":\"rgb(102, 197, 204)\",\"size\":[481771.901],\"sizemode\":\"area\",\"sizeref\":1606.5901920000001,\"symbol\":\"circle\"},\"mode\":\"markers+text\",\"name\":\"About to sleep\",\"orientation\":\"v\",\"showlegend\":true,\"text\":[\"About to sleep\"],\"x\":[68.4392523364486],\"xaxis\":\"x\",\"y\":[1.2866043613707165],\"yaxis\":\"y\",\"type\":\"scatter\",\"textposition\":\"top center\"},{\"hovertemplate\":\"\\u003cb\\u003e%{hovertext}\\u003c\\u002fb\\u003e\\u003cbr\\u003e\\u003cbr\\u003ecustomer_segment=%{text}\\u003cbr\\u003eAverage Recency(days)=%{x}\\u003cbr\\u003eAverage Frequency=%{y}\\u003cbr\\u003eTotal Monetary=%{marker.size}\\u003cextra\\u003e\\u003c\\u002fextra\\u003e\",\"hovertext\":[\"At risk\"],\"legendgroup\":\"At risk\",\"marker\":{\"color\":\"rgb(246, 207, 113)\",\"size\":[51338.6],\"sizemode\":\"area\",\"sizeref\":1606.5901920000001,\"symbol\":\"circle\"},\"mode\":\"markers+text\",\"name\":\"At risk\",\"orientation\":\"v\",\"showlegend\":true,\"text\":[\"At risk\"],\"x\":[198.5],\"xaxis\":\"x\",\"y\":[10.071428571428571],\"yaxis\":\"y\",\"type\":\"scatter\",\"textposition\":\"top center\"},{\"hovertemplate\":\"\\u003cb\\u003e%{hovertext}\\u003c\\u002fb\\u003e\\u003cbr\\u003e\\u003cbr\\u003ecustomer_segment=%{text}\\u003cbr\\u003eAverage Recency(days)=%{x}\\u003cbr\\u003eAverage Frequency=%{y}\\u003cbr\\u003eTotal Monetary=%{marker.size}\\u003cextra\\u003e\\u003c\\u002fextra\\u003e\",\"hovertext\":[\"Best Customers\"],\"legendgroup\":\"Best Customers\",\"marker\":{\"color\":\"rgb(248, 156, 116)\",\"size\":[4016475.4800000004],\"sizemode\":\"area\",\"sizeref\":1606.5901920000001,\"symbol\":\"circle\"},\"mode\":\"markers+text\",\"name\":\"Best Customers\",\"orientation\":\"v\",\"showlegend\":true,\"text\":[\"Best Customers\"],\"x\":[7.404157043879907],\"xaxis\":\"x\",\"y\":[15.251732101616629],\"yaxis\":\"y\",\"type\":\"scatter\",\"textposition\":\"top center\"},{\"hovertemplate\":\"\\u003cb\\u003e%{hovertext}\\u003c\\u002fb\\u003e\\u003cbr\\u003e\\u003cbr\\u003ecustomer_segment=%{text}\\u003cbr\\u003eAverage Recency(days)=%{x}\\u003cbr\\u003eAverage Frequency=%{y}\\u003cbr\\u003eTotal Monetary=%{marker.size}\\u003cextra\\u003e\\u003c\\u002fextra\\u003e\",\"hovertext\":[\"Lost\"],\"legendgroup\":\"Lost\",\"marker\":{\"color\":\"rgb(220, 176, 242)\",\"size\":[298388.63],\"sizemode\":\"area\",\"sizeref\":1606.5901920000001,\"symbol\":\"circle\"},\"mode\":\"markers+text\",\"name\":\"Lost\",\"orientation\":\"v\",\"showlegend\":true,\"text\":[\"Lost\"],\"x\":[259.41818181818184],\"xaxis\":\"x\",\"y\":[1.0],\"yaxis\":\"y\",\"type\":\"scatter\",\"textposition\":\"top center\"},{\"hovertemplate\":\"\\u003cb\\u003e%{hovertext}\\u003c\\u002fb\\u003e\\u003cbr\\u003e\\u003cbr\\u003ecustomer_segment=%{text}\\u003cbr\\u003eAverage Recency(days)=%{x}\\u003cbr\\u003eAverage Frequency=%{y}\\u003cbr\\u003eTotal Monetary=%{marker.size}\\u003cextra\\u003e\\u003c\\u002fextra\\u003e\",\"hovertext\":[\"Loyal Customers\"],\"legendgroup\":\"Loyal Customers\",\"marker\":{\"color\":\"rgb(135, 197, 95)\",\"size\":[422837.36],\"sizemode\":\"area\",\"sizeref\":1606.5901920000001,\"symbol\":\"circle\"},\"mode\":\"markers+text\",\"name\":\"Loyal Customers\",\"orientation\":\"v\",\"showlegend\":true,\"text\":[\"Loyal Customers\"],\"x\":[8.538983050847458],\"xaxis\":\"x\",\"y\":[4.576271186440678],\"yaxis\":\"y\",\"type\":\"scatter\",\"textposition\":\"top center\"},{\"hovertemplate\":\"\\u003cb\\u003e%{hovertext}\\u003c\\u002fb\\u003e\\u003cbr\\u003e\\u003cbr\\u003ecustomer_segment=%{text}\\u003cbr\\u003eAverage Recency(days)=%{x}\\u003cbr\\u003eAverage Frequency=%{y}\\u003cbr\\u003eTotal Monetary=%{marker.size}\\u003cextra\\u003e\\u003c\\u002fextra\\u003e\",\"hovertext\":[\"Needing attention\"],\"legendgroup\":\"Needing attention\",\"marker\":{\"color\":\"rgb(158, 185, 243)\",\"size\":[679726.94],\"sizemode\":\"area\",\"sizeref\":1606.5901920000001,\"symbol\":\"circle\"},\"mode\":\"markers+text\",\"name\":\"Needing attention\",\"orientation\":\"v\",\"showlegend\":true,\"text\":[\"Needing attention\"],\"x\":[81.67732558139535],\"xaxis\":\"x\",\"y\":[4.808139534883721],\"yaxis\":\"y\",\"type\":\"scatter\",\"textposition\":\"top center\"},{\"hovertemplate\":\"\\u003cb\\u003e%{hovertext}\\u003c\\u002fb\\u003e\\u003cbr\\u003e\\u003cbr\\u003ecustomer_segment=%{text}\\u003cbr\\u003eAverage Recency(days)=%{x}\\u003cbr\\u003eAverage Frequency=%{y}\\u003cbr\\u003eTotal Monetary=%{marker.size}\\u003cextra\\u003e\\u003c\\u002fextra\\u003e\",\"hovertext\":[\"New customers\"],\"legendgroup\":\"New customers\",\"marker\":{\"color\":\"rgb(254, 136, 177)\",\"size\":[41030.59],\"sizemode\":\"area\",\"sizeref\":1606.5901920000001,\"symbol\":\"circle\"},\"mode\":\"markers+text\",\"name\":\"New customers\",\"orientation\":\"v\",\"showlegend\":true,\"text\":[\"New customers\"],\"x\":[9.257352941176471],\"xaxis\":\"x\",\"y\":[1.0],\"yaxis\":\"y\",\"type\":\"scatter\",\"textposition\":\"top center\"},{\"hovertemplate\":\"\\u003cb\\u003e%{hovertext}\\u003c\\u002fb\\u003e\\u003cbr\\u003e\\u003cbr\\u003ecustomer_segment=%{text}\\u003cbr\\u003eAverage Recency(days)=%{x}\\u003cbr\\u003eAverage Frequency=%{y}\\u003cbr\\u003eTotal Monetary=%{marker.size}\\u003cextra\\u003e\\u003c\\u002fextra\\u003e\",\"hovertext\":[\"Other\"],\"legendgroup\":\"Other\",\"marker\":{\"color\":\"rgb(201, 219, 116)\",\"size\":[204858.612],\"sizemode\":\"area\",\"sizeref\":1606.5901920000001,\"symbol\":\"circle\"},\"mode\":\"markers+text\",\"name\":\"Other\",\"orientation\":\"v\",\"showlegend\":true,\"text\":[\"Other\"],\"x\":[168.6818181818182],\"xaxis\":\"x\",\"y\":[2.9829545454545454],\"yaxis\":\"y\",\"type\":\"scatter\",\"textposition\":\"top center\"},{\"hovertemplate\":\"\\u003cb\\u003e%{hovertext}\\u003c\\u002fb\\u003e\\u003cbr\\u003e\\u003cbr\\u003ecustomer_segment=%{text}\\u003cbr\\u003eAverage Recency(days)=%{x}\\u003cbr\\u003eAverage Frequency=%{y}\\u003cbr\\u003eTotal Monetary=%{marker.size}\\u003cextra\\u003e\\u003c\\u002fextra\\u003e\",\"hovertext\":[\"Potential Loyalists\"],\"legendgroup\":\"Potential Loyalists\",\"marker\":{\"color\":\"rgb(139, 224, 164)\",\"size\":[2026957.271],\"sizemode\":\"area\",\"sizeref\":1606.5901920000001,\"symbol\":\"circle\"},\"mode\":\"markers+text\",\"name\":\"Potential Loyalists\",\"orientation\":\"v\",\"showlegend\":true,\"text\":[\"Potential Loyalists\"],\"x\":[26.0225321888412],\"xaxis\":\"x\",\"y\":[5.005364806866953],\"yaxis\":\"y\",\"type\":\"scatter\",\"textposition\":\"top center\"},{\"hovertemplate\":\"\\u003cb\\u003e%{hovertext}\\u003c\\u002fb\\u003e\\u003cbr\\u003e\\u003cbr\\u003ecustomer_segment=%{text}\\u003cbr\\u003eAverage Recency(days)=%{x}\\u003cbr\\u003eAverage Frequency=%{y}\\u003cbr\\u003eTotal Monetary=%{marker.size}\\u003cextra\\u003e\\u003c\\u002fextra\\u003e\",\"hovertext\":[\"Price sensitive\"],\"legendgroup\":\"Price sensitive\",\"marker\":{\"color\":\"rgb(180, 151, 231)\",\"size\":[3892.74],\"sizemode\":\"area\",\"sizeref\":1606.5901920000001,\"symbol\":\"circle\"},\"mode\":\"markers+text\",\"name\":\"Price sensitive\",\"orientation\":\"v\",\"showlegend\":true,\"text\":[\"Price sensitive\"],\"x\":[74.85714285714286],\"xaxis\":\"x\",\"y\":[3.619047619047619],\"yaxis\":\"y\",\"type\":\"scatter\",\"textposition\":\"top center\"},{\"hovertemplate\":\"\\u003cb\\u003e%{hovertext}\\u003c\\u002fb\\u003e\\u003cbr\\u003e\\u003cbr\\u003ecustomer_segment=%{text}\\u003cbr\\u003eAverage Recency(days)=%{x}\\u003cbr\\u003eAverage Frequency=%{y}\\u003cbr\\u003eTotal Monetary=%{marker.size}\\u003cextra\\u003e\\u003c\\u002fextra\\u003e\",\"hovertext\":[\"Recent customers\"],\"legendgroup\":\"Recent customers\",\"marker\":{\"color\":\"rgb(179, 179, 179)\",\"size\":[9325.72],\"sizemode\":\"area\",\"sizeref\":1606.5901920000001,\"symbol\":\"circle\"},\"mode\":\"markers+text\",\"name\":\"Recent customers\",\"orientation\":\"v\",\"showlegend\":true,\"text\":[\"Recent customers\"],\"x\":[8.046511627906977],\"xaxis\":\"x\",\"y\":[2.2325581395348837],\"yaxis\":\"y\",\"type\":\"scatter\",\"textposition\":\"top center\"},{\"hovertemplate\":\"\\u003cb\\u003e%{hovertext}\\u003c\\u002fb\\u003e\\u003cbr\\u003e\\u003cbr\\u003ecustomer_segment=%{text}\\u003cbr\\u003eAverage Recency(days)=%{x}\\u003cbr\\u003eAverage Frequency=%{y}\\u003cbr\\u003eTotal Monetary=%{marker.size}\\u003cextra\\u003e\\u003c\\u002fextra\\u003e\",\"hovertext\":[\"Slipping customers\"],\"legendgroup\":\"Slipping customers\",\"marker\":{\"color\":\"rgb(102, 197, 204)\",\"size\":[156611.27],\"sizemode\":\"area\",\"sizeref\":1606.5901920000001,\"symbol\":\"circle\"},\"mode\":\"markers+text\",\"name\":\"Slipping customers\",\"orientation\":\"v\",\"showlegend\":true,\"text\":[\"Slipping customers\"],\"x\":[212.86222222222221],\"xaxis\":\"x\",\"y\":[2.457777777777778],\"yaxis\":\"y\",\"type\":\"scatter\",\"textposition\":\"top center\"}],                        {\"template\":{\"data\":{\"histogram2dcontour\":[{\"type\":\"histogram2dcontour\",\"colorbar\":{\"outlinewidth\":0,\"ticks\":\"\"},\"colorscale\":[[0.0,\"#0d0887\"],[0.1111111111111111,\"#46039f\"],[0.2222222222222222,\"#7201a8\"],[0.3333333333333333,\"#9c179e\"],[0.4444444444444444,\"#bd3786\"],[0.5555555555555556,\"#d8576b\"],[0.6666666666666666,\"#ed7953\"],[0.7777777777777778,\"#fb9f3a\"],[0.8888888888888888,\"#fdca26\"],[1.0,\"#f0f921\"]]}],\"choropleth\":[{\"type\":\"choropleth\",\"colorbar\":{\"outlinewidth\":0,\"ticks\":\"\"}}],\"histogram2d\":[{\"type\":\"histogram2d\",\"colorbar\":{\"outlinewidth\":0,\"ticks\":\"\"},\"colorscale\":[[0.0,\"#0d0887\"],[0.1111111111111111,\"#46039f\"],[0.2222222222222222,\"#7201a8\"],[0.3333333333333333,\"#9c179e\"],[0.4444444444444444,\"#bd3786\"],[0.5555555555555556,\"#d8576b\"],[0.6666666666666666,\"#ed7953\"],[0.7777777777777778,\"#fb9f3a\"],[0.8888888888888888,\"#fdca26\"],[1.0,\"#f0f921\"]]}],\"heatmap\":[{\"type\":\"heatmap\",\"colorbar\":{\"outlinewidth\":0,\"ticks\":\"\"},\"colorscale\":[[0.0,\"#0d0887\"],[0.1111111111111111,\"#46039f\"],[0.2222222222222222,\"#7201a8\"],[0.3333333333333333,\"#9c179e\"],[0.4444444444444444,\"#bd3786\"],[0.5555555555555556,\"#d8576b\"],[0.6666666666666666,\"#ed7953\"],[0.7777777777777778,\"#fb9f3a\"],[0.8888888888888888,\"#fdca26\"],[1.0,\"#f0f921\"]]}],\"heatmapgl\":[{\"type\":\"heatmapgl\",\"colorbar\":{\"outlinewidth\":0,\"ticks\":\"\"},\"colorscale\":[[0.0,\"#0d0887\"],[0.1111111111111111,\"#46039f\"],[0.2222222222222222,\"#7201a8\"],[0.3333333333333333,\"#9c179e\"],[0.4444444444444444,\"#bd3786\"],[0.5555555555555556,\"#d8576b\"],[0.6666666666666666,\"#ed7953\"],[0.7777777777777778,\"#fb9f3a\"],[0.8888888888888888,\"#fdca26\"],[1.0,\"#f0f921\"]]}],\"contourcarpet\":[{\"type\":\"contourcarpet\",\"colorbar\":{\"outlinewidth\":0,\"ticks\":\"\"}}],\"contour\":[{\"type\":\"contour\",\"colorbar\":{\"outlinewidth\":0,\"ticks\":\"\"},\"colorscale\":[[0.0,\"#0d0887\"],[0.1111111111111111,\"#46039f\"],[0.2222222222222222,\"#7201a8\"],[0.3333333333333333,\"#9c179e\"],[0.4444444444444444,\"#bd3786\"],[0.5555555555555556,\"#d8576b\"],[0.6666666666666666,\"#ed7953\"],[0.7777777777777778,\"#fb9f3a\"],[0.8888888888888888,\"#fdca26\"],[1.0,\"#f0f921\"]]}],\"surface\":[{\"type\":\"surface\",\"colorbar\":{\"outlinewidth\":0,\"ticks\":\"\"},\"colorscale\":[[0.0,\"#0d0887\"],[0.1111111111111111,\"#46039f\"],[0.2222222222222222,\"#7201a8\"],[0.3333333333333333,\"#9c179e\"],[0.4444444444444444,\"#bd3786\"],[0.5555555555555556,\"#d8576b\"],[0.6666666666666666,\"#ed7953\"],[0.7777777777777778,\"#fb9f3a\"],[0.8888888888888888,\"#fdca26\"],[1.0,\"#f0f921\"]]}],\"mesh3d\":[{\"type\":\"mesh3d\",\"colorbar\":{\"outlinewidth\":0,\"ticks\":\"\"}}],\"scatter\":[{\"fillpattern\":{\"fillmode\":\"overlay\",\"size\":10,\"solidity\":0.2},\"type\":\"scatter\"}],\"parcoords\":[{\"type\":\"parcoords\",\"line\":{\"colorbar\":{\"outlinewidth\":0,\"ticks\":\"\"}}}],\"scatterpolargl\":[{\"type\":\"scatterpolargl\",\"marker\":{\"colorbar\":{\"outlinewidth\":0,\"ticks\":\"\"}}}],\"bar\":[{\"error_x\":{\"color\":\"#2a3f5f\"},\"error_y\":{\"color\":\"#2a3f5f\"},\"marker\":{\"line\":{\"color\":\"#E5ECF6\",\"width\":0.5},\"pattern\":{\"fillmode\":\"overlay\",\"size\":10,\"solidity\":0.2}},\"type\":\"bar\"}],\"scattergeo\":[{\"type\":\"scattergeo\",\"marker\":{\"colorbar\":{\"outlinewidth\":0,\"ticks\":\"\"}}}],\"scatterpolar\":[{\"type\":\"scatterpolar\",\"marker\":{\"colorbar\":{\"outlinewidth\":0,\"ticks\":\"\"}}}],\"histogram\":[{\"marker\":{\"pattern\":{\"fillmode\":\"overlay\",\"size\":10,\"solidity\":0.2}},\"type\":\"histogram\"}],\"scattergl\":[{\"type\":\"scattergl\",\"marker\":{\"colorbar\":{\"outlinewidth\":0,\"ticks\":\"\"}}}],\"scatter3d\":[{\"type\":\"scatter3d\",\"line\":{\"colorbar\":{\"outlinewidth\":0,\"ticks\":\"\"}},\"marker\":{\"colorbar\":{\"outlinewidth\":0,\"ticks\":\"\"}}}],\"scattermapbox\":[{\"type\":\"scattermapbox\",\"marker\":{\"colorbar\":{\"outlinewidth\":0,\"ticks\":\"\"}}}],\"scatterternary\":[{\"type\":\"scatterternary\",\"marker\":{\"colorbar\":{\"outlinewidth\":0,\"ticks\":\"\"}}}],\"scattercarpet\":[{\"type\":\"scattercarpet\",\"marker\":{\"colorbar\":{\"outlinewidth\":0,\"ticks\":\"\"}}}],\"carpet\":[{\"aaxis\":{\"endlinecolor\":\"#2a3f5f\",\"gridcolor\":\"white\",\"linecolor\":\"white\",\"minorgridcolor\":\"white\",\"startlinecolor\":\"#2a3f5f\"},\"baxis\":{\"endlinecolor\":\"#2a3f5f\",\"gridcolor\":\"white\",\"linecolor\":\"white\",\"minorgridcolor\":\"white\",\"startlinecolor\":\"#2a3f5f\"},\"type\":\"carpet\"}],\"table\":[{\"cells\":{\"fill\":{\"color\":\"#EBF0F8\"},\"line\":{\"color\":\"white\"}},\"header\":{\"fill\":{\"color\":\"#C8D4E3\"},\"line\":{\"color\":\"white\"}},\"type\":\"table\"}],\"barpolar\":[{\"marker\":{\"line\":{\"color\":\"#E5ECF6\",\"width\":0.5},\"pattern\":{\"fillmode\":\"overlay\",\"size\":10,\"solidity\":0.2}},\"type\":\"barpolar\"}],\"pie\":[{\"automargin\":true,\"type\":\"pie\"}]},\"layout\":{\"autotypenumbers\":\"strict\",\"colorway\":[\"#636efa\",\"#EF553B\",\"#00cc96\",\"#ab63fa\",\"#FFA15A\",\"#19d3f3\",\"#FF6692\",\"#B6E880\",\"#FF97FF\",\"#FECB52\"],\"font\":{\"color\":\"#2a3f5f\"},\"hovermode\":\"closest\",\"hoverlabel\":{\"align\":\"left\"},\"paper_bgcolor\":\"white\",\"plot_bgcolor\":\"#E5ECF6\",\"polar\":{\"bgcolor\":\"#E5ECF6\",\"angularaxis\":{\"gridcolor\":\"white\",\"linecolor\":\"white\",\"ticks\":\"\"},\"radialaxis\":{\"gridcolor\":\"white\",\"linecolor\":\"white\",\"ticks\":\"\"}},\"ternary\":{\"bgcolor\":\"#E5ECF6\",\"aaxis\":{\"gridcolor\":\"white\",\"linecolor\":\"white\",\"ticks\":\"\"},\"baxis\":{\"gridcolor\":\"white\",\"linecolor\":\"white\",\"ticks\":\"\"},\"caxis\":{\"gridcolor\":\"white\",\"linecolor\":\"white\",\"ticks\":\"\"}},\"coloraxis\":{\"colorbar\":{\"outlinewidth\":0,\"ticks\":\"\"}},\"colorscale\":{\"sequential\":[[0.0,\"#0d0887\"],[0.1111111111111111,\"#46039f\"],[0.2222222222222222,\"#7201a8\"],[0.3333333333333333,\"#9c179e\"],[0.4444444444444444,\"#bd3786\"],[0.5555555555555556,\"#d8576b\"],[0.6666666666666666,\"#ed7953\"],[0.7777777777777778,\"#fb9f3a\"],[0.8888888888888888,\"#fdca26\"],[1.0,\"#f0f921\"]],\"sequentialminus\":[[0.0,\"#0d0887\"],[0.1111111111111111,\"#46039f\"],[0.2222222222222222,\"#7201a8\"],[0.3333333333333333,\"#9c179e\"],[0.4444444444444444,\"#bd3786\"],[0.5555555555555556,\"#d8576b\"],[0.6666666666666666,\"#ed7953\"],[0.7777777777777778,\"#fb9f3a\"],[0.8888888888888888,\"#fdca26\"],[1.0,\"#f0f921\"]],\"diverging\":[[0,\"#8e0152\"],[0.1,\"#c51b7d\"],[0.2,\"#de77ae\"],[0.3,\"#f1b6da\"],[0.4,\"#fde0ef\"],[0.5,\"#f7f7f7\"],[0.6,\"#e6f5d0\"],[0.7,\"#b8e186\"],[0.8,\"#7fbc41\"],[0.9,\"#4d9221\"],[1,\"#276419\"]]},\"xaxis\":{\"gridcolor\":\"white\",\"linecolor\":\"white\",\"ticks\":\"\",\"title\":{\"standoff\":15},\"zerolinecolor\":\"white\",\"automargin\":true,\"zerolinewidth\":2},\"yaxis\":{\"gridcolor\":\"white\",\"linecolor\":\"white\",\"ticks\":\"\",\"title\":{\"standoff\":15},\"zerolinecolor\":\"white\",\"automargin\":true,\"zerolinewidth\":2},\"scene\":{\"xaxis\":{\"backgroundcolor\":\"#E5ECF6\",\"gridcolor\":\"white\",\"linecolor\":\"white\",\"showbackground\":true,\"ticks\":\"\",\"zerolinecolor\":\"white\",\"gridwidth\":2},\"yaxis\":{\"backgroundcolor\":\"#E5ECF6\",\"gridcolor\":\"white\",\"linecolor\":\"white\",\"showbackground\":true,\"ticks\":\"\",\"zerolinecolor\":\"white\",\"gridwidth\":2},\"zaxis\":{\"backgroundcolor\":\"#E5ECF6\",\"gridcolor\":\"white\",\"linecolor\":\"white\",\"showbackground\":true,\"ticks\":\"\",\"zerolinecolor\":\"white\",\"gridwidth\":2}},\"shapedefaults\":{\"line\":{\"color\":\"#2a3f5f\"}},\"annotationdefaults\":{\"arrowcolor\":\"#2a3f5f\",\"arrowhead\":0,\"arrowwidth\":1},\"geo\":{\"bgcolor\":\"white\",\"landcolor\":\"#E5ECF6\",\"subunitcolor\":\"white\",\"showland\":true,\"showlakes\":true,\"lakecolor\":\"white\"},\"title\":{\"x\":0.05},\"mapbox\":{\"style\":\"light\"}}},\"xaxis\":{\"anchor\":\"y\",\"domain\":[0.0,1.0],\"title\":{\"text\":\"Average Recency(days)\"}},\"yaxis\":{\"anchor\":\"x\",\"domain\":[0.0,1.0],\"title\":{\"text\":\"Average Frequency\"}},\"legend\":{\"title\":{\"text\":\"customer_segment\"},\"tracegroupgap\":0,\"itemsizing\":\"constant\"},\"title\":{\"text\":\"Customer Segment Sizes (bubble size indicating monetary value)\"},\"showlegend\":false,\"width\":1200,\"height\":700},                        {\"responsive\": true}                    ).then(function(){\n",
              "                            \n",
              "var gd = document.getElementById('e743dda9-8166-419e-b2e2-acac7209639c');\n",
              "var x = new MutationObserver(function (mutations, observer) {{\n",
              "        var display = window.getComputedStyle(gd).display;\n",
              "        if (!display || display === 'none') {{\n",
              "            console.log([gd, 'removed!']);\n",
              "            Plotly.purge(gd);\n",
              "            observer.disconnect();\n",
              "        }}\n",
              "}});\n",
              "\n",
              "// Listen for the removal of the full notebook cells\n",
              "var notebookContainer = gd.closest('#notebook-container');\n",
              "if (notebookContainer) {{\n",
              "    x.observe(notebookContainer, {childList: true});\n",
              "}}\n",
              "\n",
              "// Listen for the clearing of the current output cell\n",
              "var outputEl = gd.closest('.output');\n",
              "if (outputEl) {{\n",
              "    x.observe(outputEl, {childList: true});\n",
              "}}\n",
              "\n",
              "                        })                };                            </script>        </div>\n",
              "</body>\n",
              "</html>"
            ]
          },
          "metadata": {}
        }
      ]
    },
    {
      "cell_type": "code",
      "source": [
        "# Create the treemap\n",
        "customer_segment_counts = df['customer_segment'].value_counts().reset_index()\n",
        "customer_segment_counts.columns = ['customer_segment', 'count']\n",
        "\n",
        "# Create the treemap\n",
        "fig = px.treemap(customer_segment_counts,\n",
        "                 path=['customer_segment'],\n",
        "                 values='count',\n",
        "                 title='Customer Segmentation Split by count of customers',\n",
        "                 color='customer_segment',\n",
        "                 color_discrete_sequence=px.colors.qualitative.Prism)\n",
        "\n",
        "# Customize the treemap to show the segment name and percentage of total\n",
        "fig.data[0].textinfo = 'label+percent root'\n",
        "fig.update_layout(width=1700, height=700)\n",
        "fig.show()"
      ],
      "metadata": {
        "colab": {
          "base_uri": "https://localhost:8080/",
          "height": 717
        },
        "id": "0t-QpzSZs_uv",
        "outputId": "78debc66-c161-491b-a285-84372e067d0b"
      },
      "execution_count": 65,
      "outputs": [
        {
          "output_type": "display_data",
          "data": {
            "text/html": [
              "<html>\n",
              "<head><meta charset=\"utf-8\" /></head>\n",
              "<body>\n",
              "    <div>            <script src=\"https://cdnjs.cloudflare.com/ajax/libs/mathjax/2.7.5/MathJax.js?config=TeX-AMS-MML_SVG\"></script><script type=\"text/javascript\">if (window.MathJax && window.MathJax.Hub && window.MathJax.Hub.Config) {window.MathJax.Hub.Config({SVG: {font: \"STIX-Web\"}});}</script>                <script type=\"text/javascript\">window.PlotlyConfig = {MathJaxConfig: 'local'};</script>\n",
              "        <script charset=\"utf-8\" src=\"https://cdn.plot.ly/plotly-2.24.1.min.js\"></script>                <div id=\"cc25965e-b235-4eb9-9880-28baab9edbfe\" class=\"plotly-graph-div\" style=\"height:700px; width:1700px;\"></div>            <script type=\"text/javascript\">                                    window.PLOTLYENV=window.PLOTLYENV || {};                                    if (document.getElementById(\"cc25965e-b235-4eb9-9880-28baab9edbfe\")) {                    Plotly.newPlot(                        \"cc25965e-b235-4eb9-9880-28baab9edbfe\",                        [{\"branchvalues\":\"total\",\"customdata\":[[\"About to sleep\"],[\"Slipping customers\"],[\"Lost\"],[\"Best Customers\"],[\"Needing attention\"],[\"Loyal Customers\"],[\"Potential Loyalists\"],[\"Other\"],[\"At risk\"],[\"Recent customers\"],[\"Price sensitive\"],[\"New customers\"]],\"domain\":{\"x\":[0.0,1.0],\"y\":[0.0,1.0]},\"hovertemplate\":\"labels=%{label}\\u003cbr\\u003ecount=%{value}\\u003cbr\\u003eparent=%{parent}\\u003cbr\\u003eid=%{id}\\u003cbr\\u003ecustomer_segment=%{customdata[0]}\\u003cextra\\u003e\\u003c\\u002fextra\\u003e\",\"ids\":[\"About to sleep\",\"Slipping customers\",\"Lost\",\"Best Customers\",\"Needing attention\",\"Loyal Customers\",\"Potential Loyalists\",\"Other\",\"At risk\",\"Recent customers\",\"Price sensitive\",\"New customers\"],\"labels\":[\"About to sleep\",\"Slipping customers\",\"Lost\",\"Best Customers\",\"Needing attention\",\"Loyal Customers\",\"Potential Loyalists\",\"Other\",\"At risk\",\"Recent customers\",\"Price sensitive\",\"New customers\"],\"marker\":{\"colors\":[\"rgb(95, 70, 144)\",\"rgb(29, 105, 150)\",\"rgb(56, 166, 165)\",\"rgb(15, 133, 84)\",\"rgb(115, 175, 72)\",\"rgb(237, 173, 8)\",\"rgb(225, 124, 5)\",\"rgb(204, 80, 62)\",\"rgb(148, 52, 110)\",\"rgb(111, 64, 112)\",\"rgb(102, 102, 102)\",\"rgb(95, 70, 144)\"]},\"name\":\"\",\"parents\":[\"\",\"\",\"\",\"\",\"\",\"\",\"\",\"\",\"\",\"\",\"\",\"\"],\"values\":[963,225,715,433,344,295,932,176,14,43,21,136],\"type\":\"treemap\",\"textinfo\":\"label+percent root\"}],                        {\"template\":{\"data\":{\"histogram2dcontour\":[{\"type\":\"histogram2dcontour\",\"colorbar\":{\"outlinewidth\":0,\"ticks\":\"\"},\"colorscale\":[[0.0,\"#0d0887\"],[0.1111111111111111,\"#46039f\"],[0.2222222222222222,\"#7201a8\"],[0.3333333333333333,\"#9c179e\"],[0.4444444444444444,\"#bd3786\"],[0.5555555555555556,\"#d8576b\"],[0.6666666666666666,\"#ed7953\"],[0.7777777777777778,\"#fb9f3a\"],[0.8888888888888888,\"#fdca26\"],[1.0,\"#f0f921\"]]}],\"choropleth\":[{\"type\":\"choropleth\",\"colorbar\":{\"outlinewidth\":0,\"ticks\":\"\"}}],\"histogram2d\":[{\"type\":\"histogram2d\",\"colorbar\":{\"outlinewidth\":0,\"ticks\":\"\"},\"colorscale\":[[0.0,\"#0d0887\"],[0.1111111111111111,\"#46039f\"],[0.2222222222222222,\"#7201a8\"],[0.3333333333333333,\"#9c179e\"],[0.4444444444444444,\"#bd3786\"],[0.5555555555555556,\"#d8576b\"],[0.6666666666666666,\"#ed7953\"],[0.7777777777777778,\"#fb9f3a\"],[0.8888888888888888,\"#fdca26\"],[1.0,\"#f0f921\"]]}],\"heatmap\":[{\"type\":\"heatmap\",\"colorbar\":{\"outlinewidth\":0,\"ticks\":\"\"},\"colorscale\":[[0.0,\"#0d0887\"],[0.1111111111111111,\"#46039f\"],[0.2222222222222222,\"#7201a8\"],[0.3333333333333333,\"#9c179e\"],[0.4444444444444444,\"#bd3786\"],[0.5555555555555556,\"#d8576b\"],[0.6666666666666666,\"#ed7953\"],[0.7777777777777778,\"#fb9f3a\"],[0.8888888888888888,\"#fdca26\"],[1.0,\"#f0f921\"]]}],\"heatmapgl\":[{\"type\":\"heatmapgl\",\"colorbar\":{\"outlinewidth\":0,\"ticks\":\"\"},\"colorscale\":[[0.0,\"#0d0887\"],[0.1111111111111111,\"#46039f\"],[0.2222222222222222,\"#7201a8\"],[0.3333333333333333,\"#9c179e\"],[0.4444444444444444,\"#bd3786\"],[0.5555555555555556,\"#d8576b\"],[0.6666666666666666,\"#ed7953\"],[0.7777777777777778,\"#fb9f3a\"],[0.8888888888888888,\"#fdca26\"],[1.0,\"#f0f921\"]]}],\"contourcarpet\":[{\"type\":\"contourcarpet\",\"colorbar\":{\"outlinewidth\":0,\"ticks\":\"\"}}],\"contour\":[{\"type\":\"contour\",\"colorbar\":{\"outlinewidth\":0,\"ticks\":\"\"},\"colorscale\":[[0.0,\"#0d0887\"],[0.1111111111111111,\"#46039f\"],[0.2222222222222222,\"#7201a8\"],[0.3333333333333333,\"#9c179e\"],[0.4444444444444444,\"#bd3786\"],[0.5555555555555556,\"#d8576b\"],[0.6666666666666666,\"#ed7953\"],[0.7777777777777778,\"#fb9f3a\"],[0.8888888888888888,\"#fdca26\"],[1.0,\"#f0f921\"]]}],\"surface\":[{\"type\":\"surface\",\"colorbar\":{\"outlinewidth\":0,\"ticks\":\"\"},\"colorscale\":[[0.0,\"#0d0887\"],[0.1111111111111111,\"#46039f\"],[0.2222222222222222,\"#7201a8\"],[0.3333333333333333,\"#9c179e\"],[0.4444444444444444,\"#bd3786\"],[0.5555555555555556,\"#d8576b\"],[0.6666666666666666,\"#ed7953\"],[0.7777777777777778,\"#fb9f3a\"],[0.8888888888888888,\"#fdca26\"],[1.0,\"#f0f921\"]]}],\"mesh3d\":[{\"type\":\"mesh3d\",\"colorbar\":{\"outlinewidth\":0,\"ticks\":\"\"}}],\"scatter\":[{\"fillpattern\":{\"fillmode\":\"overlay\",\"size\":10,\"solidity\":0.2},\"type\":\"scatter\"}],\"parcoords\":[{\"type\":\"parcoords\",\"line\":{\"colorbar\":{\"outlinewidth\":0,\"ticks\":\"\"}}}],\"scatterpolargl\":[{\"type\":\"scatterpolargl\",\"marker\":{\"colorbar\":{\"outlinewidth\":0,\"ticks\":\"\"}}}],\"bar\":[{\"error_x\":{\"color\":\"#2a3f5f\"},\"error_y\":{\"color\":\"#2a3f5f\"},\"marker\":{\"line\":{\"color\":\"#E5ECF6\",\"width\":0.5},\"pattern\":{\"fillmode\":\"overlay\",\"size\":10,\"solidity\":0.2}},\"type\":\"bar\"}],\"scattergeo\":[{\"type\":\"scattergeo\",\"marker\":{\"colorbar\":{\"outlinewidth\":0,\"ticks\":\"\"}}}],\"scatterpolar\":[{\"type\":\"scatterpolar\",\"marker\":{\"colorbar\":{\"outlinewidth\":0,\"ticks\":\"\"}}}],\"histogram\":[{\"marker\":{\"pattern\":{\"fillmode\":\"overlay\",\"size\":10,\"solidity\":0.2}},\"type\":\"histogram\"}],\"scattergl\":[{\"type\":\"scattergl\",\"marker\":{\"colorbar\":{\"outlinewidth\":0,\"ticks\":\"\"}}}],\"scatter3d\":[{\"type\":\"scatter3d\",\"line\":{\"colorbar\":{\"outlinewidth\":0,\"ticks\":\"\"}},\"marker\":{\"colorbar\":{\"outlinewidth\":0,\"ticks\":\"\"}}}],\"scattermapbox\":[{\"type\":\"scattermapbox\",\"marker\":{\"colorbar\":{\"outlinewidth\":0,\"ticks\":\"\"}}}],\"scatterternary\":[{\"type\":\"scatterternary\",\"marker\":{\"colorbar\":{\"outlinewidth\":0,\"ticks\":\"\"}}}],\"scattercarpet\":[{\"type\":\"scattercarpet\",\"marker\":{\"colorbar\":{\"outlinewidth\":0,\"ticks\":\"\"}}}],\"carpet\":[{\"aaxis\":{\"endlinecolor\":\"#2a3f5f\",\"gridcolor\":\"white\",\"linecolor\":\"white\",\"minorgridcolor\":\"white\",\"startlinecolor\":\"#2a3f5f\"},\"baxis\":{\"endlinecolor\":\"#2a3f5f\",\"gridcolor\":\"white\",\"linecolor\":\"white\",\"minorgridcolor\":\"white\",\"startlinecolor\":\"#2a3f5f\"},\"type\":\"carpet\"}],\"table\":[{\"cells\":{\"fill\":{\"color\":\"#EBF0F8\"},\"line\":{\"color\":\"white\"}},\"header\":{\"fill\":{\"color\":\"#C8D4E3\"},\"line\":{\"color\":\"white\"}},\"type\":\"table\"}],\"barpolar\":[{\"marker\":{\"line\":{\"color\":\"#E5ECF6\",\"width\":0.5},\"pattern\":{\"fillmode\":\"overlay\",\"size\":10,\"solidity\":0.2}},\"type\":\"barpolar\"}],\"pie\":[{\"automargin\":true,\"type\":\"pie\"}]},\"layout\":{\"autotypenumbers\":\"strict\",\"colorway\":[\"#636efa\",\"#EF553B\",\"#00cc96\",\"#ab63fa\",\"#FFA15A\",\"#19d3f3\",\"#FF6692\",\"#B6E880\",\"#FF97FF\",\"#FECB52\"],\"font\":{\"color\":\"#2a3f5f\"},\"hovermode\":\"closest\",\"hoverlabel\":{\"align\":\"left\"},\"paper_bgcolor\":\"white\",\"plot_bgcolor\":\"#E5ECF6\",\"polar\":{\"bgcolor\":\"#E5ECF6\",\"angularaxis\":{\"gridcolor\":\"white\",\"linecolor\":\"white\",\"ticks\":\"\"},\"radialaxis\":{\"gridcolor\":\"white\",\"linecolor\":\"white\",\"ticks\":\"\"}},\"ternary\":{\"bgcolor\":\"#E5ECF6\",\"aaxis\":{\"gridcolor\":\"white\",\"linecolor\":\"white\",\"ticks\":\"\"},\"baxis\":{\"gridcolor\":\"white\",\"linecolor\":\"white\",\"ticks\":\"\"},\"caxis\":{\"gridcolor\":\"white\",\"linecolor\":\"white\",\"ticks\":\"\"}},\"coloraxis\":{\"colorbar\":{\"outlinewidth\":0,\"ticks\":\"\"}},\"colorscale\":{\"sequential\":[[0.0,\"#0d0887\"],[0.1111111111111111,\"#46039f\"],[0.2222222222222222,\"#7201a8\"],[0.3333333333333333,\"#9c179e\"],[0.4444444444444444,\"#bd3786\"],[0.5555555555555556,\"#d8576b\"],[0.6666666666666666,\"#ed7953\"],[0.7777777777777778,\"#fb9f3a\"],[0.8888888888888888,\"#fdca26\"],[1.0,\"#f0f921\"]],\"sequentialminus\":[[0.0,\"#0d0887\"],[0.1111111111111111,\"#46039f\"],[0.2222222222222222,\"#7201a8\"],[0.3333333333333333,\"#9c179e\"],[0.4444444444444444,\"#bd3786\"],[0.5555555555555556,\"#d8576b\"],[0.6666666666666666,\"#ed7953\"],[0.7777777777777778,\"#fb9f3a\"],[0.8888888888888888,\"#fdca26\"],[1.0,\"#f0f921\"]],\"diverging\":[[0,\"#8e0152\"],[0.1,\"#c51b7d\"],[0.2,\"#de77ae\"],[0.3,\"#f1b6da\"],[0.4,\"#fde0ef\"],[0.5,\"#f7f7f7\"],[0.6,\"#e6f5d0\"],[0.7,\"#b8e186\"],[0.8,\"#7fbc41\"],[0.9,\"#4d9221\"],[1,\"#276419\"]]},\"xaxis\":{\"gridcolor\":\"white\",\"linecolor\":\"white\",\"ticks\":\"\",\"title\":{\"standoff\":15},\"zerolinecolor\":\"white\",\"automargin\":true,\"zerolinewidth\":2},\"yaxis\":{\"gridcolor\":\"white\",\"linecolor\":\"white\",\"ticks\":\"\",\"title\":{\"standoff\":15},\"zerolinecolor\":\"white\",\"automargin\":true,\"zerolinewidth\":2},\"scene\":{\"xaxis\":{\"backgroundcolor\":\"#E5ECF6\",\"gridcolor\":\"white\",\"linecolor\":\"white\",\"showbackground\":true,\"ticks\":\"\",\"zerolinecolor\":\"white\",\"gridwidth\":2},\"yaxis\":{\"backgroundcolor\":\"#E5ECF6\",\"gridcolor\":\"white\",\"linecolor\":\"white\",\"showbackground\":true,\"ticks\":\"\",\"zerolinecolor\":\"white\",\"gridwidth\":2},\"zaxis\":{\"backgroundcolor\":\"#E5ECF6\",\"gridcolor\":\"white\",\"linecolor\":\"white\",\"showbackground\":true,\"ticks\":\"\",\"zerolinecolor\":\"white\",\"gridwidth\":2}},\"shapedefaults\":{\"line\":{\"color\":\"#2a3f5f\"}},\"annotationdefaults\":{\"arrowcolor\":\"#2a3f5f\",\"arrowhead\":0,\"arrowwidth\":1},\"geo\":{\"bgcolor\":\"white\",\"landcolor\":\"#E5ECF6\",\"subunitcolor\":\"white\",\"showland\":true,\"showlakes\":true,\"lakecolor\":\"white\"},\"title\":{\"x\":0.05},\"mapbox\":{\"style\":\"light\"}}},\"legend\":{\"tracegroupgap\":0},\"title\":{\"text\":\"Customer Segmentation Split by count of customers\"},\"treemapcolorway\":[\"rgb(95, 70, 144)\",\"rgb(29, 105, 150)\",\"rgb(56, 166, 165)\",\"rgb(15, 133, 84)\",\"rgb(115, 175, 72)\",\"rgb(237, 173, 8)\",\"rgb(225, 124, 5)\",\"rgb(204, 80, 62)\",\"rgb(148, 52, 110)\",\"rgb(111, 64, 112)\",\"rgb(102, 102, 102)\"],\"width\":1700,\"height\":700},                        {\"responsive\": true}                    ).then(function(){\n",
              "                            \n",
              "var gd = document.getElementById('cc25965e-b235-4eb9-9880-28baab9edbfe');\n",
              "var x = new MutationObserver(function (mutations, observer) {{\n",
              "        var display = window.getComputedStyle(gd).display;\n",
              "        if (!display || display === 'none') {{\n",
              "            console.log([gd, 'removed!']);\n",
              "            Plotly.purge(gd);\n",
              "            observer.disconnect();\n",
              "        }}\n",
              "}});\n",
              "\n",
              "// Listen for the removal of the full notebook cells\n",
              "var notebookContainer = gd.closest('#notebook-container');\n",
              "if (notebookContainer) {{\n",
              "    x.observe(notebookContainer, {childList: true});\n",
              "}}\n",
              "\n",
              "// Listen for the clearing of the current output cell\n",
              "var outputEl = gd.closest('.output');\n",
              "if (outputEl) {{\n",
              "    x.observe(outputEl, {childList: true});\n",
              "}}\n",
              "\n",
              "                        })                };                            </script>        </div>\n",
              "</body>\n",
              "</html>"
            ]
          },
          "metadata": {}
        }
      ]
    },
    {
      "cell_type": "code",
      "source": [
        "segment_monetary_values = df.groupby('customer_segment')['monetary'].sum().reset_index()\n",
        "\n",
        "# Calculate the percentage of total for each segment\n",
        "segment_monetary_values['percentage_of_total'] = (segment_monetary_values['monetary'] / total_sales) * 100\n",
        "\n",
        "# Create the bar chart\n",
        "fig = px.bar(segment_monetary_values,\n",
        "             x='customer_segment',\n",
        "             y='monetary',\n",
        "             text='percentage_of_total',\n",
        "             title='Monetary Value of Customer Segments',\n",
        "             color='customer_segment',\n",
        "             color_discrete_sequence=px.colors.qualitative.Prism)\n",
        "\n",
        "# Format the annotations to show as percentages with one decimal\n",
        "fig.update_traces(texttemplate='%{text:.1f}%', textposition='outside')\n",
        "\n",
        "# Update layout for clearer visualization\n",
        "fig.update_layout(xaxis_title='Customer Segment',\n",
        "                  yaxis_title='Monetary Value',\n",
        "                  uniformtext_minsize=8,\n",
        "                  uniformtext_mode='hide',\n",
        "                  showlegend=False,\n",
        "                  width=1700, height=700)\n",
        "\n",
        "fig.show()"
      ],
      "metadata": {
        "colab": {
          "base_uri": "https://localhost:8080/",
          "height": 717
        },
        "id": "pfB3RPQVwx4f",
        "outputId": "034c6f2b-de98-4cd2-da61-1d74572f6bcd"
      },
      "execution_count": 66,
      "outputs": [
        {
          "output_type": "display_data",
          "data": {
            "text/html": [
              "<html>\n",
              "<head><meta charset=\"utf-8\" /></head>\n",
              "<body>\n",
              "    <div>            <script src=\"https://cdnjs.cloudflare.com/ajax/libs/mathjax/2.7.5/MathJax.js?config=TeX-AMS-MML_SVG\"></script><script type=\"text/javascript\">if (window.MathJax && window.MathJax.Hub && window.MathJax.Hub.Config) {window.MathJax.Hub.Config({SVG: {font: \"STIX-Web\"}});}</script>                <script type=\"text/javascript\">window.PlotlyConfig = {MathJaxConfig: 'local'};</script>\n",
              "        <script charset=\"utf-8\" src=\"https://cdn.plot.ly/plotly-2.24.1.min.js\"></script>                <div id=\"515f7354-333a-48f3-9623-d140d96cd0f3\" class=\"plotly-graph-div\" style=\"height:700px; width:1700px;\"></div>            <script type=\"text/javascript\">                                    window.PLOTLYENV=window.PLOTLYENV || {};                                    if (document.getElementById(\"515f7354-333a-48f3-9623-d140d96cd0f3\")) {                    Plotly.newPlot(                        \"515f7354-333a-48f3-9623-d140d96cd0f3\",                        [{\"alignmentgroup\":\"True\",\"hovertemplate\":\"customer_segment=%{x}\\u003cbr\\u003emonetary=%{y}\\u003cbr\\u003epercentage_of_total=%{text}\\u003cextra\\u003e\\u003c\\u002fextra\\u003e\",\"legendgroup\":\"About to sleep\",\"marker\":{\"color\":\"rgb(95, 70, 144)\",\"pattern\":{\"shape\":\"\"}},\"name\":\"About to sleep\",\"offsetgroup\":\"About to sleep\",\"orientation\":\"v\",\"showlegend\":true,\"text\":[5.740016125601234],\"textposition\":\"outside\",\"x\":[\"About to sleep\"],\"xaxis\":\"x\",\"y\":[481771.901],\"yaxis\":\"y\",\"type\":\"bar\",\"texttemplate\":\"%{text:.1f}%\"},{\"alignmentgroup\":\"True\",\"hovertemplate\":\"customer_segment=%{x}\\u003cbr\\u003emonetary=%{y}\\u003cbr\\u003epercentage_of_total=%{text}\\u003cextra\\u003e\\u003c\\u002fextra\\u003e\",\"legendgroup\":\"At risk\",\"marker\":{\"color\":\"rgb(29, 105, 150)\",\"pattern\":{\"shape\":\"\"}},\"name\":\"At risk\",\"offsetgroup\":\"At risk\",\"orientation\":\"v\",\"showlegend\":true,\"text\":[0.6116678686617539],\"textposition\":\"outside\",\"x\":[\"At risk\"],\"xaxis\":\"x\",\"y\":[51338.6],\"yaxis\":\"y\",\"type\":\"bar\",\"texttemplate\":\"%{text:.1f}%\"},{\"alignmentgroup\":\"True\",\"hovertemplate\":\"customer_segment=%{x}\\u003cbr\\u003emonetary=%{y}\\u003cbr\\u003epercentage_of_total=%{text}\\u003cextra\\u003e\\u003c\\u002fextra\\u003e\",\"legendgroup\":\"Best Customers\",\"marker\":{\"color\":\"rgb(56, 166, 165)\",\"pattern\":{\"shape\":\"\"}},\"name\":\"Best Customers\",\"offsetgroup\":\"Best Customers\",\"orientation\":\"v\",\"showlegend\":true,\"text\":[47.85383700342034],\"textposition\":\"outside\",\"x\":[\"Best Customers\"],\"xaxis\":\"x\",\"y\":[4016475.4800000004],\"yaxis\":\"y\",\"type\":\"bar\",\"texttemplate\":\"%{text:.1f}%\"},{\"alignmentgroup\":\"True\",\"hovertemplate\":\"customer_segment=%{x}\\u003cbr\\u003emonetary=%{y}\\u003cbr\\u003epercentage_of_total=%{text}\\u003cextra\\u003e\\u003c\\u002fextra\\u003e\",\"legendgroup\":\"Lost\",\"marker\":{\"color\":\"rgb(15, 133, 84)\",\"pattern\":{\"shape\":\"\"}},\"name\":\"Lost\",\"offsetgroup\":\"Lost\",\"orientation\":\"v\",\"showlegend\":true,\"text\":[3.5551171505456067],\"textposition\":\"outside\",\"x\":[\"Lost\"],\"xaxis\":\"x\",\"y\":[298388.63],\"yaxis\":\"y\",\"type\":\"bar\",\"texttemplate\":\"%{text:.1f}%\"},{\"alignmentgroup\":\"True\",\"hovertemplate\":\"customer_segment=%{x}\\u003cbr\\u003emonetary=%{y}\\u003cbr\\u003epercentage_of_total=%{text}\\u003cextra\\u003e\\u003c\\u002fextra\\u003e\",\"legendgroup\":\"Loyal Customers\",\"marker\":{\"color\":\"rgb(115, 175, 72)\",\"pattern\":{\"shape\":\"\"}},\"name\":\"Loyal Customers\",\"offsetgroup\":\"Loyal Customers\",\"orientation\":\"v\",\"showlegend\":true,\"text\":[5.037847288039852],\"textposition\":\"outside\",\"x\":[\"Loyal Customers\"],\"xaxis\":\"x\",\"y\":[422837.36],\"yaxis\":\"y\",\"type\":\"bar\",\"texttemplate\":\"%{text:.1f}%\"},{\"alignmentgroup\":\"True\",\"hovertemplate\":\"customer_segment=%{x}\\u003cbr\\u003emonetary=%{y}\\u003cbr\\u003epercentage_of_total=%{text}\\u003cextra\\u003e\\u003c\\u002fextra\\u003e\",\"legendgroup\":\"Needing attention\",\"marker\":{\"color\":\"rgb(237, 173, 8)\",\"pattern\":{\"shape\":\"\"}},\"name\":\"Needing attention\",\"offsetgroup\":\"Needing attention\",\"orientation\":\"v\",\"showlegend\":true,\"text\":[8.098528761239612],\"textposition\":\"outside\",\"x\":[\"Needing attention\"],\"xaxis\":\"x\",\"y\":[679726.94],\"yaxis\":\"y\",\"type\":\"bar\",\"texttemplate\":\"%{text:.1f}%\"},{\"alignmentgroup\":\"True\",\"hovertemplate\":\"customer_segment=%{x}\\u003cbr\\u003emonetary=%{y}\\u003cbr\\u003epercentage_of_total=%{text}\\u003cextra\\u003e\\u003c\\u002fextra\\u003e\",\"legendgroup\":\"New customers\",\"marker\":{\"color\":\"rgb(225, 124, 5)\",\"pattern\":{\"shape\":\"\"}},\"name\":\"New customers\",\"offsetgroup\":\"New customers\",\"orientation\":\"v\",\"showlegend\":true,\"text\":[0.4888542643397808],\"textposition\":\"outside\",\"x\":[\"New customers\"],\"xaxis\":\"x\",\"y\":[41030.59],\"yaxis\":\"y\",\"type\":\"bar\",\"texttemplate\":\"%{text:.1f}%\"},{\"alignmentgroup\":\"True\",\"hovertemplate\":\"customer_segment=%{x}\\u003cbr\\u003emonetary=%{y}\\u003cbr\\u003epercentage_of_total=%{text}\\u003cextra\\u003e\\u003c\\u002fextra\\u003e\",\"legendgroup\":\"Other\",\"marker\":{\"color\":\"rgb(204, 80, 62)\",\"pattern\":{\"shape\":\"\"}},\"name\":\"Other\",\"offsetgroup\":\"Other\",\"orientation\":\"v\",\"showlegend\":true,\"text\":[2.440764465315478],\"textposition\":\"outside\",\"x\":[\"Other\"],\"xaxis\":\"x\",\"y\":[204858.612],\"yaxis\":\"y\",\"type\":\"bar\",\"texttemplate\":\"%{text:.1f}%\"},{\"alignmentgroup\":\"True\",\"hovertemplate\":\"customer_segment=%{x}\\u003cbr\\u003emonetary=%{y}\\u003cbr\\u003epercentage_of_total=%{text}\\u003cextra\\u003e\\u003c\\u002fextra\\u003e\",\"legendgroup\":\"Potential Loyalists\",\"marker\":{\"color\":\"rgb(148, 52, 110)\",\"pattern\":{\"shape\":\"\"}},\"name\":\"Potential Loyalists\",\"offsetgroup\":\"Potential Loyalists\",\"orientation\":\"v\",\"showlegend\":true,\"text\":[24.149950209413873],\"textposition\":\"outside\",\"x\":[\"Potential Loyalists\"],\"xaxis\":\"x\",\"y\":[2026957.271],\"yaxis\":\"y\",\"type\":\"bar\",\"texttemplate\":\"%{text:.1f}%\"},{\"alignmentgroup\":\"True\",\"hovertemplate\":\"customer_segment=%{x}\\u003cbr\\u003emonetary=%{y}\\u003cbr\\u003epercentage_of_total=%{text}\\u003cextra\\u003e\\u003c\\u002fextra\\u003e\",\"legendgroup\":\"Price sensitive\",\"marker\":{\"color\":\"rgb(111, 64, 112)\",\"pattern\":{\"shape\":\"\"}},\"name\":\"Price sensitive\",\"offsetgroup\":\"Price sensitive\",\"orientation\":\"v\",\"showlegend\":true,\"text\":[0.046379604801345495],\"textposition\":\"outside\",\"x\":[\"Price sensitive\"],\"xaxis\":\"x\",\"y\":[3892.74],\"yaxis\":\"y\",\"type\":\"bar\",\"texttemplate\":\"%{text:.1f}%\"},{\"alignmentgroup\":\"True\",\"hovertemplate\":\"customer_segment=%{x}\\u003cbr\\u003emonetary=%{y}\\u003cbr\\u003epercentage_of_total=%{text}\\u003cextra\\u003e\\u003c\\u002fextra\\u003e\",\"legendgroup\":\"Recent customers\",\"marker\":{\"color\":\"rgb(102, 102, 102)\",\"pattern\":{\"shape\":\"\"}},\"name\":\"Recent customers\",\"offsetgroup\":\"Recent customers\",\"orientation\":\"v\",\"showlegend\":true,\"text\":[0.11111022264215019],\"textposition\":\"outside\",\"x\":[\"Recent customers\"],\"xaxis\":\"x\",\"y\":[9325.72],\"yaxis\":\"y\",\"type\":\"bar\",\"texttemplate\":\"%{text:.1f}%\"},{\"alignmentgroup\":\"True\",\"hovertemplate\":\"customer_segment=%{x}\\u003cbr\\u003emonetary=%{y}\\u003cbr\\u003epercentage_of_total=%{text}\\u003cextra\\u003e\\u003c\\u002fextra\\u003e\",\"legendgroup\":\"Slipping customers\",\"marker\":{\"color\":\"rgb(95, 70, 144)\",\"pattern\":{\"shape\":\"\"}},\"name\":\"Slipping customers\",\"offsetgroup\":\"Slipping customers\",\"orientation\":\"v\",\"showlegend\":true,\"text\":[1.8659270359789804],\"textposition\":\"outside\",\"x\":[\"Slipping customers\"],\"xaxis\":\"x\",\"y\":[156611.27],\"yaxis\":\"y\",\"type\":\"bar\",\"texttemplate\":\"%{text:.1f}%\"}],                        {\"template\":{\"data\":{\"histogram2dcontour\":[{\"type\":\"histogram2dcontour\",\"colorbar\":{\"outlinewidth\":0,\"ticks\":\"\"},\"colorscale\":[[0.0,\"#0d0887\"],[0.1111111111111111,\"#46039f\"],[0.2222222222222222,\"#7201a8\"],[0.3333333333333333,\"#9c179e\"],[0.4444444444444444,\"#bd3786\"],[0.5555555555555556,\"#d8576b\"],[0.6666666666666666,\"#ed7953\"],[0.7777777777777778,\"#fb9f3a\"],[0.8888888888888888,\"#fdca26\"],[1.0,\"#f0f921\"]]}],\"choropleth\":[{\"type\":\"choropleth\",\"colorbar\":{\"outlinewidth\":0,\"ticks\":\"\"}}],\"histogram2d\":[{\"type\":\"histogram2d\",\"colorbar\":{\"outlinewidth\":0,\"ticks\":\"\"},\"colorscale\":[[0.0,\"#0d0887\"],[0.1111111111111111,\"#46039f\"],[0.2222222222222222,\"#7201a8\"],[0.3333333333333333,\"#9c179e\"],[0.4444444444444444,\"#bd3786\"],[0.5555555555555556,\"#d8576b\"],[0.6666666666666666,\"#ed7953\"],[0.7777777777777778,\"#fb9f3a\"],[0.8888888888888888,\"#fdca26\"],[1.0,\"#f0f921\"]]}],\"heatmap\":[{\"type\":\"heatmap\",\"colorbar\":{\"outlinewidth\":0,\"ticks\":\"\"},\"colorscale\":[[0.0,\"#0d0887\"],[0.1111111111111111,\"#46039f\"],[0.2222222222222222,\"#7201a8\"],[0.3333333333333333,\"#9c179e\"],[0.4444444444444444,\"#bd3786\"],[0.5555555555555556,\"#d8576b\"],[0.6666666666666666,\"#ed7953\"],[0.7777777777777778,\"#fb9f3a\"],[0.8888888888888888,\"#fdca26\"],[1.0,\"#f0f921\"]]}],\"heatmapgl\":[{\"type\":\"heatmapgl\",\"colorbar\":{\"outlinewidth\":0,\"ticks\":\"\"},\"colorscale\":[[0.0,\"#0d0887\"],[0.1111111111111111,\"#46039f\"],[0.2222222222222222,\"#7201a8\"],[0.3333333333333333,\"#9c179e\"],[0.4444444444444444,\"#bd3786\"],[0.5555555555555556,\"#d8576b\"],[0.6666666666666666,\"#ed7953\"],[0.7777777777777778,\"#fb9f3a\"],[0.8888888888888888,\"#fdca26\"],[1.0,\"#f0f921\"]]}],\"contourcarpet\":[{\"type\":\"contourcarpet\",\"colorbar\":{\"outlinewidth\":0,\"ticks\":\"\"}}],\"contour\":[{\"type\":\"contour\",\"colorbar\":{\"outlinewidth\":0,\"ticks\":\"\"},\"colorscale\":[[0.0,\"#0d0887\"],[0.1111111111111111,\"#46039f\"],[0.2222222222222222,\"#7201a8\"],[0.3333333333333333,\"#9c179e\"],[0.4444444444444444,\"#bd3786\"],[0.5555555555555556,\"#d8576b\"],[0.6666666666666666,\"#ed7953\"],[0.7777777777777778,\"#fb9f3a\"],[0.8888888888888888,\"#fdca26\"],[1.0,\"#f0f921\"]]}],\"surface\":[{\"type\":\"surface\",\"colorbar\":{\"outlinewidth\":0,\"ticks\":\"\"},\"colorscale\":[[0.0,\"#0d0887\"],[0.1111111111111111,\"#46039f\"],[0.2222222222222222,\"#7201a8\"],[0.3333333333333333,\"#9c179e\"],[0.4444444444444444,\"#bd3786\"],[0.5555555555555556,\"#d8576b\"],[0.6666666666666666,\"#ed7953\"],[0.7777777777777778,\"#fb9f3a\"],[0.8888888888888888,\"#fdca26\"],[1.0,\"#f0f921\"]]}],\"mesh3d\":[{\"type\":\"mesh3d\",\"colorbar\":{\"outlinewidth\":0,\"ticks\":\"\"}}],\"scatter\":[{\"fillpattern\":{\"fillmode\":\"overlay\",\"size\":10,\"solidity\":0.2},\"type\":\"scatter\"}],\"parcoords\":[{\"type\":\"parcoords\",\"line\":{\"colorbar\":{\"outlinewidth\":0,\"ticks\":\"\"}}}],\"scatterpolargl\":[{\"type\":\"scatterpolargl\",\"marker\":{\"colorbar\":{\"outlinewidth\":0,\"ticks\":\"\"}}}],\"bar\":[{\"error_x\":{\"color\":\"#2a3f5f\"},\"error_y\":{\"color\":\"#2a3f5f\"},\"marker\":{\"line\":{\"color\":\"#E5ECF6\",\"width\":0.5},\"pattern\":{\"fillmode\":\"overlay\",\"size\":10,\"solidity\":0.2}},\"type\":\"bar\"}],\"scattergeo\":[{\"type\":\"scattergeo\",\"marker\":{\"colorbar\":{\"outlinewidth\":0,\"ticks\":\"\"}}}],\"scatterpolar\":[{\"type\":\"scatterpolar\",\"marker\":{\"colorbar\":{\"outlinewidth\":0,\"ticks\":\"\"}}}],\"histogram\":[{\"marker\":{\"pattern\":{\"fillmode\":\"overlay\",\"size\":10,\"solidity\":0.2}},\"type\":\"histogram\"}],\"scattergl\":[{\"type\":\"scattergl\",\"marker\":{\"colorbar\":{\"outlinewidth\":0,\"ticks\":\"\"}}}],\"scatter3d\":[{\"type\":\"scatter3d\",\"line\":{\"colorbar\":{\"outlinewidth\":0,\"ticks\":\"\"}},\"marker\":{\"colorbar\":{\"outlinewidth\":0,\"ticks\":\"\"}}}],\"scattermapbox\":[{\"type\":\"scattermapbox\",\"marker\":{\"colorbar\":{\"outlinewidth\":0,\"ticks\":\"\"}}}],\"scatterternary\":[{\"type\":\"scatterternary\",\"marker\":{\"colorbar\":{\"outlinewidth\":0,\"ticks\":\"\"}}}],\"scattercarpet\":[{\"type\":\"scattercarpet\",\"marker\":{\"colorbar\":{\"outlinewidth\":0,\"ticks\":\"\"}}}],\"carpet\":[{\"aaxis\":{\"endlinecolor\":\"#2a3f5f\",\"gridcolor\":\"white\",\"linecolor\":\"white\",\"minorgridcolor\":\"white\",\"startlinecolor\":\"#2a3f5f\"},\"baxis\":{\"endlinecolor\":\"#2a3f5f\",\"gridcolor\":\"white\",\"linecolor\":\"white\",\"minorgridcolor\":\"white\",\"startlinecolor\":\"#2a3f5f\"},\"type\":\"carpet\"}],\"table\":[{\"cells\":{\"fill\":{\"color\":\"#EBF0F8\"},\"line\":{\"color\":\"white\"}},\"header\":{\"fill\":{\"color\":\"#C8D4E3\"},\"line\":{\"color\":\"white\"}},\"type\":\"table\"}],\"barpolar\":[{\"marker\":{\"line\":{\"color\":\"#E5ECF6\",\"width\":0.5},\"pattern\":{\"fillmode\":\"overlay\",\"size\":10,\"solidity\":0.2}},\"type\":\"barpolar\"}],\"pie\":[{\"automargin\":true,\"type\":\"pie\"}]},\"layout\":{\"autotypenumbers\":\"strict\",\"colorway\":[\"#636efa\",\"#EF553B\",\"#00cc96\",\"#ab63fa\",\"#FFA15A\",\"#19d3f3\",\"#FF6692\",\"#B6E880\",\"#FF97FF\",\"#FECB52\"],\"font\":{\"color\":\"#2a3f5f\"},\"hovermode\":\"closest\",\"hoverlabel\":{\"align\":\"left\"},\"paper_bgcolor\":\"white\",\"plot_bgcolor\":\"#E5ECF6\",\"polar\":{\"bgcolor\":\"#E5ECF6\",\"angularaxis\":{\"gridcolor\":\"white\",\"linecolor\":\"white\",\"ticks\":\"\"},\"radialaxis\":{\"gridcolor\":\"white\",\"linecolor\":\"white\",\"ticks\":\"\"}},\"ternary\":{\"bgcolor\":\"#E5ECF6\",\"aaxis\":{\"gridcolor\":\"white\",\"linecolor\":\"white\",\"ticks\":\"\"},\"baxis\":{\"gridcolor\":\"white\",\"linecolor\":\"white\",\"ticks\":\"\"},\"caxis\":{\"gridcolor\":\"white\",\"linecolor\":\"white\",\"ticks\":\"\"}},\"coloraxis\":{\"colorbar\":{\"outlinewidth\":0,\"ticks\":\"\"}},\"colorscale\":{\"sequential\":[[0.0,\"#0d0887\"],[0.1111111111111111,\"#46039f\"],[0.2222222222222222,\"#7201a8\"],[0.3333333333333333,\"#9c179e\"],[0.4444444444444444,\"#bd3786\"],[0.5555555555555556,\"#d8576b\"],[0.6666666666666666,\"#ed7953\"],[0.7777777777777778,\"#fb9f3a\"],[0.8888888888888888,\"#fdca26\"],[1.0,\"#f0f921\"]],\"sequentialminus\":[[0.0,\"#0d0887\"],[0.1111111111111111,\"#46039f\"],[0.2222222222222222,\"#7201a8\"],[0.3333333333333333,\"#9c179e\"],[0.4444444444444444,\"#bd3786\"],[0.5555555555555556,\"#d8576b\"],[0.6666666666666666,\"#ed7953\"],[0.7777777777777778,\"#fb9f3a\"],[0.8888888888888888,\"#fdca26\"],[1.0,\"#f0f921\"]],\"diverging\":[[0,\"#8e0152\"],[0.1,\"#c51b7d\"],[0.2,\"#de77ae\"],[0.3,\"#f1b6da\"],[0.4,\"#fde0ef\"],[0.5,\"#f7f7f7\"],[0.6,\"#e6f5d0\"],[0.7,\"#b8e186\"],[0.8,\"#7fbc41\"],[0.9,\"#4d9221\"],[1,\"#276419\"]]},\"xaxis\":{\"gridcolor\":\"white\",\"linecolor\":\"white\",\"ticks\":\"\",\"title\":{\"standoff\":15},\"zerolinecolor\":\"white\",\"automargin\":true,\"zerolinewidth\":2},\"yaxis\":{\"gridcolor\":\"white\",\"linecolor\":\"white\",\"ticks\":\"\",\"title\":{\"standoff\":15},\"zerolinecolor\":\"white\",\"automargin\":true,\"zerolinewidth\":2},\"scene\":{\"xaxis\":{\"backgroundcolor\":\"#E5ECF6\",\"gridcolor\":\"white\",\"linecolor\":\"white\",\"showbackground\":true,\"ticks\":\"\",\"zerolinecolor\":\"white\",\"gridwidth\":2},\"yaxis\":{\"backgroundcolor\":\"#E5ECF6\",\"gridcolor\":\"white\",\"linecolor\":\"white\",\"showbackground\":true,\"ticks\":\"\",\"zerolinecolor\":\"white\",\"gridwidth\":2},\"zaxis\":{\"backgroundcolor\":\"#E5ECF6\",\"gridcolor\":\"white\",\"linecolor\":\"white\",\"showbackground\":true,\"ticks\":\"\",\"zerolinecolor\":\"white\",\"gridwidth\":2}},\"shapedefaults\":{\"line\":{\"color\":\"#2a3f5f\"}},\"annotationdefaults\":{\"arrowcolor\":\"#2a3f5f\",\"arrowhead\":0,\"arrowwidth\":1},\"geo\":{\"bgcolor\":\"white\",\"landcolor\":\"#E5ECF6\",\"subunitcolor\":\"white\",\"showland\":true,\"showlakes\":true,\"lakecolor\":\"white\"},\"title\":{\"x\":0.05},\"mapbox\":{\"style\":\"light\"}}},\"xaxis\":{\"anchor\":\"y\",\"domain\":[0.0,1.0],\"title\":{\"text\":\"Customer Segment\"},\"categoryorder\":\"array\",\"categoryarray\":[\"About to sleep\",\"At risk\",\"Best Customers\",\"Lost\",\"Loyal Customers\",\"Needing attention\",\"New customers\",\"Other\",\"Potential Loyalists\",\"Price sensitive\",\"Recent customers\",\"Slipping customers\"]},\"yaxis\":{\"anchor\":\"x\",\"domain\":[0.0,1.0],\"title\":{\"text\":\"Monetary Value\"}},\"legend\":{\"title\":{\"text\":\"customer_segment\"},\"tracegroupgap\":0},\"title\":{\"text\":\"Monetary Value of Customer Segments\"},\"barmode\":\"relative\",\"uniformtext\":{\"minsize\":8,\"mode\":\"hide\"},\"showlegend\":false,\"width\":1700,\"height\":700},                        {\"responsive\": true}                    ).then(function(){\n",
              "                            \n",
              "var gd = document.getElementById('515f7354-333a-48f3-9623-d140d96cd0f3');\n",
              "var x = new MutationObserver(function (mutations, observer) {{\n",
              "        var display = window.getComputedStyle(gd).display;\n",
              "        if (!display || display === 'none') {{\n",
              "            console.log([gd, 'removed!']);\n",
              "            Plotly.purge(gd);\n",
              "            observer.disconnect();\n",
              "        }}\n",
              "}});\n",
              "\n",
              "// Listen for the removal of the full notebook cells\n",
              "var notebookContainer = gd.closest('#notebook-container');\n",
              "if (notebookContainer) {{\n",
              "    x.observe(notebookContainer, {childList: true});\n",
              "}}\n",
              "\n",
              "// Listen for the clearing of the current output cell\n",
              "var outputEl = gd.closest('.output');\n",
              "if (outputEl) {{\n",
              "    x.observe(outputEl, {childList: true});\n",
              "}}\n",
              "\n",
              "                        })                };                            </script>        </div>\n",
              "</body>\n",
              "</html>"
            ]
          },
          "metadata": {}
        }
      ]
    },
    {
      "cell_type": "code",
      "source": [
        "\"\"\"\n",
        "Insights and suggestions:\n",
        "\n",
        "Even though best customers make up only 10% of the customer base during this time period, their combined monetary value from total sales is nearly half of total sales.\n",
        "The second segment with the biggest monetary values is also one of the largest, when it comes to the number of customers - Potential loyalists\n",
        "\n",
        "When focusing marketing efforts and budget, it's important to keep in mind that it's always cheaper to keep existing customers than to gain new ones.\n",
        "I would mainly focus the efforts on the Best Customers and Potential Loyalists segments.\n",
        "It's important to keep up engagement with them and make sure they also know you appreciate their loyalty. You could offer loyalty programmes or the opportunity to test new products before everyone else.\n",
        "\n",
        "As a secondary priority I would try and reengage with the needing attention and about to sleep segments, but with a lower budget - for example recommending popular products through email-campaigns.\n",
        "\n",
        "\"\"\""
      ],
      "metadata": {
        "id": "-cx4iHUm0O7C"
      },
      "execution_count": null,
      "outputs": []
    }
  ]
}